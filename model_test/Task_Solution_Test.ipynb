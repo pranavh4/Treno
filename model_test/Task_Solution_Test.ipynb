{
 "cells": [
  {
   "cell_type": "code",
   "execution_count": 15,
   "id": "aa8497ba",
   "metadata": {},
   "outputs": [],
   "source": [
    "import wget\n",
    "import tensorflow as tf\n",
    "import pandas as pd\n",
    "from tensorflow.keras.utils import to_categorical\n",
    "from sklearn"
   ]
  },
  {
   "cell_type": "code",
   "execution_count": 13,
   "id": "e22ade3a",
   "metadata": {},
   "outputs": [],
   "source": [
    "def downloadModel(url, destPath):\n",
    "    file = wget.download(url, out=destPath)\n",
    "    mlModel = tf.keras.models.load_model(file)\n",
    "    return mlModel\n",
    "\n",
    "def printModelResults(model, testDataPath):\n",
    "    test = pd.read_csv(testDataPath,  header=None)   \n",
    "\n",
    "    #spliting x and y\n",
    "    yTest = test.iloc[: , -1] \n",
    "    xTest = test.drop(test.columns[-1],axis=1)\n",
    "    yTestCat = to_categorical(yTest)\n",
    "    model.evaluate(xTest, yTestCat)"
   ]
  },
  {
   "cell_type": "code",
   "execution_count": 16,
   "id": "ea46dea0",
   "metadata": {},
   "outputs": [
    {
     "name": "stdout",
     "output_type": "stream",
     "text": [
      "782/782 [==============================] - 3s 3ms/step - loss: 0.0338 - accuracy: 0.9963\n"
     ]
    }
   ],
   "source": [
    "model = downloadModel('https://transfer.sh/1QzrU4z/solution', './model.h5')\n",
    "printModelResults(model, './data/test.csv')"
   ]
  }
 ],
 "metadata": {
  "kernelspec": {
   "display_name": "Python 3",
   "language": "python",
   "name": "python3"
  },
  "language_info": {
   "codemirror_mode": {
    "name": "ipython",
    "version": 3
   },
   "file_extension": ".py",
   "mimetype": "text/x-python",
   "name": "python",
   "nbconvert_exporter": "python",
   "pygments_lexer": "ipython3",
   "version": "3.9.4"
  }
 },
 "nbformat": 4,
 "nbformat_minor": 5
}
